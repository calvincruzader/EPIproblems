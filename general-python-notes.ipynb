{
 "cells": [
  {
   "cell_type": "markdown",
   "metadata": {},
   "source": [
    "## General Python Idiosyncrasies"
   ]
  },
  {
   "cell_type": "code",
   "execution_count": 1,
   "metadata": {},
   "outputs": [],
   "source": [
    "# to store into small struct-like objects, we can just make lightweight classes: \n",
    "class Rectangle: \n",
    "    def __init__(self, length, width):\n",
    "        self.length, self.width = length, width"
   ]
  },
  {
   "cell_type": "code",
   "execution_count": 5,
   "metadata": {},
   "outputs": [
    {
     "name": "stdout",
     "output_type": "stream",
     "text": [
      "-134\n"
     ]
    }
   ],
   "source": [
    "# new stuff, named tuple! Makes keeping track of this stuff easier.\n",
    "\n",
    "import collections\n",
    "\n",
    "class Solution: \n",
    "    \n",
    "    def checking_objects(self, root):\n",
    "        BalancedStatusWithHeight = collections.namedtuple('sup', ('balanced', 'height'))\n",
    "\n",
    "        def check_balanced(node): \n",
    "            if not node: \n",
    "                return BalancedStatusWithHeight(True, -134)\n",
    "            return 24\n",
    "        return check_balanced(root)\n",
    "    \n",
    "s = Solution() \n",
    "print(s.checking_objects(None).height)\n",
    "# also, nested functions are embedded within the class functions, and thus, don't need to be self'ed "
   ]
  },
  {
   "cell_type": "code",
   "execution_count": 9,
   "metadata": {},
   "outputs": [
    {
     "name": "stdout",
     "output_type": "stream",
     "text": [
      "next(it, defaultVal) gives a defaultVal if the iterable is exhausted\n"
     ]
    }
   ],
   "source": [
    "\n",
    "arr = []\n",
    "arri = iter(arr)\n",
    "next(arri, 0) \n",
    "print(\"next(it, defaultVal) gives a defaultVal if the iterable is exhausted\")"
   ]
  },
  {
   "cell_type": "code",
   "execution_count": 18,
   "metadata": {},
   "outputs": [
    {
     "name": "stdout",
     "output_type": "stream",
     "text": [
      "this is how you do some discrete math... doing permutations/combinations\n",
      "[(1, 2), (1, 3), (1, 4), (1, 5), (2, 3), (2, 4), (2, 5), (3, 4), (3, 5), (4, 5)]\n",
      "[(1, 2), (1, 3), (1, 4), (1, 5), (2, 1), (2, 3), (2, 4), (2, 5), (3, 1), (3, 2), (3, 4), (3, 5), (4, 1), (4, 2), (4, 3), (4, 5), (5, 1), (5, 2), (5, 3), (5, 4)]\n",
      "remember: For permutations, order matters. For combinations, order doesn't matter\n"
     ]
    }
   ],
   "source": [
    "from itertools import combinations \n",
    "from itertools import permutations\n",
    "\n",
    "print(\"this is how you do some discrete math... doing permutations/combinations\")\n",
    "print(list(combinations([1,2,3,4,5], 2)))\n",
    "print(list(permutations([1,2,3,4,5], 2)))\n",
    "print(\"remember: For permutations, order matters. For combinations, order doesn't matter\")"
   ]
  },
  {
   "cell_type": "code",
   "execution_count": 3,
   "metadata": {},
   "outputs": [
    {
     "name": "stdout",
     "output_type": "stream",
     "text": [
      "In Python, you can't easily do .join()s on int items in lists, you'll have to convert everything into strings before you can do .join()s!\n",
      "Here, we're mapping every element in this list into a string to ensure that .join() works properly\n",
      "12335\n"
     ]
    }
   ],
   "source": [
    "print(\"In Python, you can't easily do .join()s on int items in lists, you'll have to convert everything into strings \\\n",
    "before you can do .join()s!\")\n",
    "x = [1,2,3,3,5]\n",
    "print(\"Here, we're mapping every element in this list into a string to ensure that .join() works properly\")\n",
    "print(''.join(map(str,x)))"
   ]
  }
 ],
 "metadata": {
  "kernelspec": {
   "display_name": "Python 3",
   "language": "python",
   "name": "python3"
  },
  "language_info": {
   "codemirror_mode": {
    "name": "ipython",
    "version": 3
   },
   "file_extension": ".py",
   "mimetype": "text/x-python",
   "name": "python",
   "nbconvert_exporter": "python",
   "pygments_lexer": "ipython3",
   "version": "3.7.2"
  }
 },
 "nbformat": 4,
 "nbformat_minor": 2
}
