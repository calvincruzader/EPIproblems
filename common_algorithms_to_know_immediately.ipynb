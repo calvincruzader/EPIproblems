{
 "cells": [
  {
   "cell_type": "markdown",
   "metadata": {},
   "source": [
    "# Algorithms you should know how to implement immediately"
   ]
  },
  {
   "cell_type": "markdown",
   "metadata": {},
   "source": [
    "## Flood fill\n",
    "\n",
    "Starting from one node/cell/etc., fill all cells connected to a node/cell/etc. that can be filled. "
   ]
  },
  {
   "cell_type": "code",
   "execution_count": 29,
   "metadata": {},
   "outputs": [],
   "source": [
    "'''\n",
    "Flood fill algorithm: Given a 2D array, a start node, start color, and replacement color,\n",
    "fill all nodes in the array that are connected to the start node 8 directional flood fill\n",
    "implementation\n",
    "'''\n",
    "\n",
    "class FloodFill: \n",
    "\n",
    "    def __init__(self, INVALID_CELL):\n",
    "        self.INVALID_CELL = INVALID_CELL\n",
    "\n",
    "    def flood_fill(self, arr, start_node: tuple, start_color, rep_color):\n",
    "\n",
    "        if(arr[start_node[0]][start_node[1]] == self.INVALID_CELL):\n",
    "            return \n",
    "\n",
    "        if(arr[start_node[0]][start_node[1]] == start_color):\n",
    "            arr[start_node[0]][start_node[1]] = rep_color\n",
    "\n",
    "        for i in range(start_node[0]-1, start_node[0]+2, 1):\n",
    "            for j in range(start_node[1]-1, start_node[1]+2, 1): \n",
    "\n",
    "                # if we're not out of bounds of if we're not in an invalid cell, fill\n",
    "                if 0 <= i and i < len(arr) and 0 <= j and j < len(arr[0]) and not arr[i][j] == self.INVALID_CELL \\\n",
    "                and not arr[i][j] == rep_color:\n",
    "                    arr[i][j] = rep_color\n",
    "                    self.flood_fill(arr, (i,j), start_color, rep_color)\n",
    "                \n",
    "\n"
   ]
  },
  {
   "cell_type": "code",
   "execution_count": 30,
   "metadata": {},
   "outputs": [],
   "source": [
    "import random\n",
    "\n",
    "f = FloodFill(-1) \n",
    "start_cell = (4,4)\n",
    "num_row = 10\n",
    "num_col = 8\n",
    "\n",
    "A = [[random.randint(-1, 0) for col in range(num_col)] for row in range(num_row)]\n",
    "A[start_cell[0]][start_cell[1]] = 0"
   ]
  },
  {
   "cell_type": "code",
   "execution_count": 31,
   "metadata": {},
   "outputs": [
    {
     "name": "stdout",
     "output_type": "stream",
     "text": [
      "matrix before flood fill:\n",
      "   0   0   0  -1  -1   0   0  -1\n",
      "  -1  -1   0  -1  -1   0  -1  -1\n",
      "   0  -1  -1   0  -1  -1   0  -1\n",
      "  -1   0  -1   0  -1  -1   0   0\n",
      "  -1  -1   0  -1   0   0  -1   0\n",
      "   0  -1   0  -1  -1  -1   0  -1\n",
      "  -1  -1   0   0   0  -1   0  -1\n",
      "   0  -1   0  -1   0  -1   0  -1\n",
      "  -1   0  -1   0  -1   0   0   0\n",
      "   0   0   0   0  -1   0  -1  -1\n",
      "Performing flood fill...\n",
      "...\n",
      "matrix after floodfill\n",
      "  99  99  99  -1  -1  99  99  -1\n",
      "  -1  -1  99  -1  -1  99  -1  -1\n",
      "  99  -1  -1  99  -1  -1  99  -1\n",
      "  -1  99  -1  99  -1  -1  99  99\n",
      "  -1  -1  99  -1  99  99  -1  99\n",
      "   0  -1  99  -1  -1  -1  99  -1\n",
      "  -1  -1  99  99  99  -1  99  -1\n",
      "  99  -1  99  -1  99  -1  99  -1\n",
      "  -1  99  -1  99  -1  99  99  99\n",
      "  99  99  99  99  -1  99  -1  -1\n"
     ]
    }
   ],
   "source": [
    "# Test it\n",
    "print(\"matrix before flood fill:\")\n",
    "# a nice way to print 2D arrays in python\n",
    "print('\\n'.join([''.join(['{:4}'.format(col) for col in row]) for row in A]))\n",
    "\n",
    "print(\"Performing flood fill...\")\n",
    "print(\"...\")\n",
    "f.flood_fill(A, start_cell, 0, 99)\n",
    "\n",
    "print(\"matrix after floodfill\")\n",
    "print('\\n'.join([''.join(['{:4}'.format(col) for col in row]) for row in A]))"
   ]
  },
  {
   "cell_type": "markdown",
   "metadata": {},
   "source": [
    "## Dijkstra's Shortest Path Algorithm"
   ]
  },
  {
   "cell_type": "markdown",
   "metadata": {},
   "source": [
    "Dijkstra's: given a set of vertices and edges, get the shortest path from a source vertex to a target vertex\n",
    "\n",
    "Informally and conceptually, you can just think of Dijkstra's as BFS that respects edge costs. Remember, uses BFS and priority queues\n",
    "\n",
    "Process explained in my words hehe:\n",
    "- initialize: set of unvisited nodes. should be 0 for now. we will mark a node visited after we've visited all the neighbors of that node. \n",
    "- initialize distance between all nodes to some MAX number\n",
    "- start with source node as current node and for each of its unvisited neighbors, call it UN, compute the min distance between current node and UN\n",
    "- repeat until theres (no more unvisited vertices??)\n",
    "\n",
    "<b>Time Complexity:</b> O(V^2 +ElogV) where E is an edge/cost and V is node/vertex\n",
    "\n",
    "<b>Space Complexity:</b> O(V^2)\n",
    "\n"
   ]
  },
  {
   "cell_type": "markdown",
   "metadata": {},
   "source": [
    "\n",
    "So, let's build it! But first... we need to define our graph:\n",
    "graph constraints specific for Dijkstra's:\n",
    "- nonnegative edges"
   ]
  },
  {
   "cell_type": "markdown",
   "metadata": {},
   "source": [
    "Let's build our graph:"
   ]
  },
  {
   "cell_type": "code",
   "execution_count": 32,
   "metadata": {},
   "outputs": [],
   "source": [
    "import queue \n",
    "from collections import namedtuple\n",
    "\n",
    "Edge = namedtuple('Edge', ('vertex', 'weight'))\n",
    "\n",
    "class GraphUndirectedWeighted:\n",
    "    def __init__(self, vertex_count):\n",
    "        # adjacency list to create all the types\n",
    "        self.vertex_count = vertex_count\n",
    "        self.adjacency_list = [[] for _ in range(vertex_count)] # range!\n",
    "            \n",
    "    def add_edge(self, source, dest, weight):\n",
    "        # make sure no invalid source, dest vertices get inputted\n",
    "        assert source < vertex_count \n",
    "        assert dest < vertex_count \n",
    "        # since the graph is undirected, we need to add the weight both ways, this will double the size of the adjacency list\n",
    "        # but that's no biggie \n",
    "        self.adjacency_list[source].append(Edge(dest, weight))\n",
    "        self.adjacency_list[dest].append(Edge(source, weight))\n",
    "        \n",
    "    def get_edges(self, vertex):\n",
    "        for edge in self.adjacency_list[vertex]:\n",
    "            yield edge \n",
    "        \n",
    "    def get_vertices(self):\n",
    "        for vertex in range(vertex_count):\n",
    "            yield vertex"
   ]
  },
  {
   "cell_type": "code",
   "execution_count": 41,
   "metadata": {},
   "outputs": [],
   "source": [
    "import queue \n",
    "from collections import namedtuple\n",
    "\n",
    "def dijkstra_shortest_path(graph, source, dest):\n",
    "    q = queue.PriorityQueue()\n",
    "    \n",
    "    distances = []\n",
    "    \n",
    "    # each vertex is id'ed by it's integer value (like an index)\n",
    "    for i in graph.get_vertex(): \n",
    "        weight = float(\"inf\") if i != source else 0\n",
    "        distances.append(weight)\n",
    "        \n",
    "    # initialize the queue \n",
    "    q.put([distances[0], source])\n",
    "        \n",
    "    while not q.empty(): \n",
    "        vertex = q.get()\n",
    "        v = vertex[1] # get the id of the vertex \n",
    "        \n",
    "        # go through all its edges and perform BFS on that bish\n",
    "        for edge in graph.get_edges(v):\n",
    "            candidate_distance = distances[v] + edge.weight\n",
    "            \n",
    "            if distances[edge.vertex] > candidate_distance:\n",
    "                distances[edge.vertex] = candidate_distance\n",
    "                \n",
    "    \n"
   ]
  },
  {
   "cell_type": "code",
   "execution_count": 39,
   "metadata": {},
   "outputs": [
    {
     "name": "stdout",
     "output_type": "stream",
     "text": [
      "1\n"
     ]
    }
   ],
   "source": [
    "import queue\n",
    "q = queue.PriorityQueue()\n",
    "q.put([0, 1])\n",
    "y = q.get()\n",
    "print(y[1])"
   ]
  }
 ],
 "metadata": {
  "kernelspec": {
   "display_name": "Python 3",
   "language": "python",
   "name": "python3"
  },
  "language_info": {
   "codemirror_mode": {
    "name": "ipython",
    "version": 3
   },
   "file_extension": ".py",
   "mimetype": "text/x-python",
   "name": "python",
   "nbconvert_exporter": "python",
   "pygments_lexer": "ipython3",
   "version": "3.6.5"
  }
 },
 "nbformat": 4,
 "nbformat_minor": 2
}
