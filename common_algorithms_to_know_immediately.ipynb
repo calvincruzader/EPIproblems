{
 "cells": [
  {
   "cell_type": "markdown",
   "metadata": {},
   "source": [
    "# Algorithms you should know how to implement immediately"
   ]
  },
  {
   "cell_type": "markdown",
   "metadata": {},
   "source": [
    "## Flood fill\n",
    "\n",
    "Starting from one node/cell/etc., fill all cells connected to a node/cell/etc. that can be filled. "
   ]
  },
  {
   "cell_type": "code",
   "execution_count": 176,
   "metadata": {},
   "outputs": [],
   "source": [
    "'''\n",
    "Flood fill algorithm: Given a 2D array, a start node, start color, and replacement color,\n",
    "fill all nodes in the array that are connected to the start node 8 directional flood fill\n",
    "implementation\n",
    "'''\n",
    "\n",
    "class FloodFill: \n",
    "\n",
    "    def __init__(self, INVALID_CELL):\n",
    "        self.INVALID_CELL = INVALID_CELL\n",
    "\n",
    "    def flood_fill(self, arr, start_node: tuple, start_color, rep_color):\n",
    "\n",
    "        if(arr[start_node[0]][start_node[1]] == self.INVALID_CELL):\n",
    "            return \n",
    "\n",
    "        if(arr[start_node[0]][start_node[1]] == start_color):\n",
    "            arr[start_node[0]][start_node[1]] = rep_color\n",
    "\n",
    "        # 8 directional flood fill\n",
    "        for i in range(start_node[0]-1, start_node[0]+2, 1):\n",
    "            for j in range(start_node[1]-1, start_node[1]+2, 1): \n",
    "\n",
    "                # if we're not out of bounds of if we're not in an invalid cell, fill\n",
    "                if 0 <= i and i < len(arr) and 0 <= j and j < len(arr[0]) and not arr[i][j] == self.INVALID_CELL \\\n",
    "                and not arr[i][j] == rep_color:\n",
    "                    arr[i][j] = rep_color\n",
    "                    self.flood_fill(arr, (i,j), start_color, rep_color)\n",
    "                \n",
    "\n"
   ]
  },
  {
   "cell_type": "code",
   "execution_count": 30,
   "metadata": {},
   "outputs": [],
   "source": [
    "import random\n",
    "\n",
    "f = FloodFill(-1) \n",
    "start_cell = (4,4)\n",
    "num_row = 10\n",
    "num_col = 8\n",
    "\n",
    "A = [[random.randint(-1, 0) for col in range(num_col)] for row in range(num_row)]\n",
    "A[start_cell[0]][start_cell[1]] = 0"
   ]
  },
  {
   "cell_type": "code",
   "execution_count": 31,
   "metadata": {},
   "outputs": [
    {
     "name": "stdout",
     "output_type": "stream",
     "text": [
      "matrix before flood fill:\n",
      "   0   0   0  -1  -1   0   0  -1\n",
      "  -1  -1   0  -1  -1   0  -1  -1\n",
      "   0  -1  -1   0  -1  -1   0  -1\n",
      "  -1   0  -1   0  -1  -1   0   0\n",
      "  -1  -1   0  -1   0   0  -1   0\n",
      "   0  -1   0  -1  -1  -1   0  -1\n",
      "  -1  -1   0   0   0  -1   0  -1\n",
      "   0  -1   0  -1   0  -1   0  -1\n",
      "  -1   0  -1   0  -1   0   0   0\n",
      "   0   0   0   0  -1   0  -1  -1\n",
      "Performing flood fill...\n",
      "...\n",
      "matrix after floodfill\n",
      "  99  99  99  -1  -1  99  99  -1\n",
      "  -1  -1  99  -1  -1  99  -1  -1\n",
      "  99  -1  -1  99  -1  -1  99  -1\n",
      "  -1  99  -1  99  -1  -1  99  99\n",
      "  -1  -1  99  -1  99  99  -1  99\n",
      "   0  -1  99  -1  -1  -1  99  -1\n",
      "  -1  -1  99  99  99  -1  99  -1\n",
      "  99  -1  99  -1  99  -1  99  -1\n",
      "  -1  99  -1  99  -1  99  99  99\n",
      "  99  99  99  99  -1  99  -1  -1\n"
     ]
    }
   ],
   "source": [
    "# Test it\n",
    "print(\"matrix before flood fill:\")\n",
    "# a nice way to print 2D arrays in python\n",
    "print('\\n'.join([''.join(['{:4}'.format(col) for col in row]) for row in A]))\n",
    "\n",
    "print(\"Performing flood fill...\")\n",
    "print(\"...\")\n",
    "f.flood_fill(A, start_cell, 0, 99)\n",
    "\n",
    "print(\"matrix after floodfill\")\n",
    "print('\\n'.join([''.join(['{:4}'.format(col) for col in row]) for row in A]))"
   ]
  },
  {
   "cell_type": "markdown",
   "metadata": {},
   "source": [
    "## Dijkstra's Shortest Path Algorithm"
   ]
  },
  {
   "cell_type": "markdown",
   "metadata": {},
   "source": [
    "Dijkstra's: given a set of vertices and edges, get the shortest path from a source vertex to a target vertex\n",
    "\n",
    "Informally and conceptually, you can just think of Dijkstra's as BFS that respects edge costs. Remember, uses BFS and priority queues\n",
    "\n",
    "Process explained in my words hehe:\n",
    "- initialize: set of unvisited nodes. should be 0 for now. we will mark a node visited after we've visited all the neighbors of that node. \n",
    "- initialize distance between all nodes to some MAX number\n",
    "- start with source node as current node and for each of its unvisited neighbors, call it UN, compute the min distance between current node and UN\n",
    "- repeat until theres (no more unvisited vertices??)\n",
    "\n",
    "<b>Time Complexity:</b> O(V^2 +ElogV) where E is an edge/cost and V is node/vertex\n",
    "\n",
    "<b>Space Complexity:</b> O(V^2)\n",
    "\n"
   ]
  },
  {
   "cell_type": "markdown",
   "metadata": {},
   "source": [
    "\n",
    "So, let's build it! But first... we need to define our graph:\n",
    "graph constraints specific for Dijkstra's:\n",
    "- nonnegative edges"
   ]
  },
  {
   "cell_type": "markdown",
   "metadata": {},
   "source": [
    "Let's build our graph:"
   ]
  },
  {
   "cell_type": "code",
   "execution_count": 32,
   "metadata": {},
   "outputs": [],
   "source": [
    "import queue \n",
    "from collections import namedtuple\n",
    "\n",
    "Edge = namedtuple('Edge', ('vertex', 'weight'))\n",
    "\n",
    "class GraphUndirectedWeighted:\n",
    "    def __init__(self, vertex_count):\n",
    "        # adjacency list to create all the types\n",
    "        self.vertex_count = vertex_count\n",
    "        self.adjacency_list = [[] for _ in range(vertex_count)] # range!\n",
    "            \n",
    "    def add_edge(self, source, dest, weight):\n",
    "        # make sure no invalid source, dest vertices get inputted\n",
    "        assert source < vertex_count \n",
    "        assert dest < vertex_count \n",
    "        # since the graph is undirected, we need to add the weight both ways, this will double the size of the adjacency list\n",
    "        # but that's no biggie \n",
    "        self.adjacency_list[source].append(Edge(dest, weight))\n",
    "        self.adjacency_list[dest].append(Edge(source, weight))\n",
    "        \n",
    "    def get_edges(self, vertex):\n",
    "        for edge in self.adjacency_list[vertex]:\n",
    "            yield edge \n",
    "        \n",
    "    def get_vertices(self):\n",
    "        for vertex in range(vertex_count):\n",
    "            yield vertex"
   ]
  },
  {
   "cell_type": "code",
   "execution_count": 48,
   "metadata": {},
   "outputs": [],
   "source": [
    "import queue \n",
    "from collections import namedtuple\n",
    "\n",
    "def dijkstra_shortest_path(graph, source, dest):\n",
    "    q = queue.PriorityQueue()\n",
    "    parents = [] # to iteratively get the parent vertices from destination to source\n",
    "    distances = []\n",
    "    \n",
    "    # each vertex is id'ed by it's integer value (like an index)\n",
    "    for i in graph.get_vertex(): \n",
    "        weight = float(\"inf\") if i != source else 0\n",
    "        distances.append(weight)\n",
    "        \n",
    "    # initialize the queue, parameter1 = relative priority, parameter 2 is the vertex\n",
    "    q.put([distances[0], source])\n",
    "        \n",
    "    while not q.empty(): \n",
    "        vertex = q.get()\n",
    "        v = vertex[1] # get the id of the vertex \n",
    "        \n",
    "        # go through all its edges and perform BFS on that bish\n",
    "        for edge in graph.get_edges(v):\n",
    "            candidate_distance = distances[v] + edge.weight\n",
    "            \n",
    "            if distances[edge.vertex] > candidate_distance:\n",
    "                distances[edge.vertex] = candidate_distance\n",
    "                parents[edge.vertex] = v\n",
    "                if candidate_distance < -100:\n",
    "                    raise Exception(\"Negative cycle detected\")\n",
    "                    \n",
    "                # put the vertex in the priority queue with current weight being the value used for priority\n",
    "                q.put(([distances[edge.vertex], edge.vertex]))\n",
    "    \n",
    "    # get vertices that make up the path\n",
    "    shortest_path = []\n",
    "    end = dest \n",
    "    while end is not None: \n",
    "        shortest_path.append(end)\n",
    "        end = parents[end]\n",
    "        \n",
    "    shortest_path.reverse()\n",
    "    \n",
    "    return shortest_path, distances[dest]"
   ]
  },
  {
   "cell_type": "markdown",
   "metadata": {},
   "source": [
    "## Mergesort \n",
    "\n",
    "Divide and conquer algo. Break an unsorted list down half by half then build it back up\n",
    "\n",
    "<b>Time Complexity:</b> O(nlogn)\n",
    "\n",
    "<b>Space Complexity:</b> O(1)"
   ]
  },
  {
   "cell_type": "code",
   "execution_count": 63,
   "metadata": {},
   "outputs": [],
   "source": [
    "def merge_sort(a_list):\n",
    "    # base case \n",
    "    if len(a_list) < 2:\n",
    "        return\n",
    "    mid = len(a_list) // 2\n",
    "    left_side = a_list[:mid]\n",
    "    right_side = a_list[mid:]\n",
    "    \n",
    "    # divide\n",
    "    merge_sort(left_side)\n",
    "    merge_sort(right_side)\n",
    "    \n",
    "    i, j, k = 0, 0, 0\n",
    "    \n",
    "    # conquer\n",
    "    while i < len(left_side) and j < len(right_side):\n",
    "        if left_side[i] < right_side[j]:\n",
    "            a_list[k] = left_side[i]\n",
    "            i += 1\n",
    "        else: \n",
    "            a_list[k] = right_side[j]\n",
    "            j += 1\n",
    "        k += 1\n",
    "\n",
    "    # when one list ran out, just put the remaining unchecked items in the modified list\n",
    "    while i < len(left_side):\n",
    "        a_list[k] = left_side[i]\n",
    "        i += 1 \n",
    "        k += 1\n",
    "    \n",
    "    while j < len(right_side):\n",
    "        a_list[k] = right_side[j]\n",
    "        j += 1\n",
    "        k += 1\n",
    "        "
   ]
  },
  {
   "cell_type": "code",
   "execution_count": 65,
   "metadata": {},
   "outputs": [
    {
     "name": "stdout",
     "output_type": "stream",
     "text": [
      "[3, 2, 1, 57, 49]\n",
      "[3, 2]\n",
      "[1, 57, 49]\n",
      "[57, 49]\n",
      "[1, 2, 3, 49, 57]\n"
     ]
    }
   ],
   "source": [
    "# test merge sort\n",
    "x = [3,2,1, 57, 49]\n",
    "merge_sort(x)\n",
    "print(x)"
   ]
  },
  {
   "cell_type": "markdown",
   "metadata": {},
   "source": [
    "## Heapsort \n",
    "\n",
    "For heapsort, you can literally just instantiate a min heap, put all the elements inside it, then pop() off and put into an array one by one.\n",
    "\n",
    "<b>Time Complexity: </b> O(nlogn)\n",
    "\n",
    "<b>Space Complexity: </b> O(1)\n",
    "\n",
    "What's interesting to know is implementing heapify: making sure that, in the case of max heaps, all parent nodes have\n",
    "a greater value than their children, so let's implement that.\n",
    "\n",
    "Process: \n",
    "- implement heapify that will take in input of a given node and recursively check for the max element in its subtree and swap between the given node and the max element \n",
    "- "
   ]
  },
  {
   "cell_type": "code",
   "execution_count": 160,
   "metadata": {},
   "outputs": [],
   "source": [
    "def heapify(alist, n, i): \n",
    "    print(\"{0} where i = {1}\".format(alist, i))\n",
    "    largest = i \n",
    "    \n",
    "    # left and right child indices\n",
    "    l = 2 * i + 1\n",
    "    r = 2 * i + 2 \n",
    "    \n",
    "    # ensure that the left and right children are less than i\n",
    "    if l < n and alist[largest] < alist[l]:\n",
    "        largest = l\n",
    "        \n",
    "    if r < n and alist[largest] < alist[r]:\n",
    "        largest = r\n",
    "        \n",
    "    if largest != i: \n",
    "        alist[i], alist[largest] = alist[largest], alist[i]\n",
    "        # heapify the root \n",
    "        heapify(alist, n, largest)\n",
    "        \n",
    "def heap_sort(data):\n",
    "    \n",
    "    # build a maxheap \n",
    "    for i in range(len(data)-1, -1, -1):\n",
    "        heapify(data, len(data), i)\n",
    "    print(\"here, max heap is built\")\n",
    "    # one by one extract the elements\n",
    "    # swap the largest element with the element in the back, then heapify \n",
    "    # you need to heapify only once since only one element was misplaced \n",
    "    for i in range(len(data)-1, 0, -1):\n",
    "        data[i], data[0] = data[0], data[i]\n",
    "        heapify(data, i, 0)\n",
    "    "
   ]
  },
  {
   "cell_type": "markdown",
   "metadata": {},
   "source": [
    "Insights gained: \n",
    "- for heapify, start at the leaves (or the smallest subtrees that actually have children) and then work your way up to the root! in order to build your max heap"
   ]
  },
  {
   "cell_type": "code",
   "execution_count": 161,
   "metadata": {},
   "outputs": [
    {
     "name": "stdout",
     "output_type": "stream",
     "text": [
      "yup\n",
      "[1, 4, 5, 8, 10, 11, 12, 15, 17] where i = 8\n",
      "yup\n",
      "[1, 4, 5, 8, 10, 11, 12, 15, 17] where i = 7\n",
      "yup\n",
      "[1, 4, 5, 8, 10, 11, 12, 15, 17] where i = 6\n",
      "yup\n",
      "[1, 4, 5, 8, 10, 11, 12, 15, 17] where i = 5\n",
      "yup\n",
      "[1, 4, 5, 8, 10, 11, 12, 15, 17] where i = 4\n",
      "yup\n",
      "[1, 4, 5, 8, 10, 11, 12, 15, 17] where i = 3\n",
      "[1, 4, 5, 17, 10, 11, 12, 15, 8] where i = 8\n",
      "yup\n",
      "[1, 4, 5, 17, 10, 11, 12, 15, 8] where i = 2\n",
      "[1, 4, 12, 17, 10, 11, 5, 15, 8] where i = 6\n",
      "yup\n",
      "[1, 4, 12, 17, 10, 11, 5, 15, 8] where i = 1\n",
      "[1, 17, 12, 4, 10, 11, 5, 15, 8] where i = 3\n",
      "[1, 17, 12, 15, 10, 11, 5, 4, 8] where i = 7\n",
      "yup\n",
      "[1, 17, 12, 15, 10, 11, 5, 4, 8] where i = 0\n",
      "[17, 1, 12, 15, 10, 11, 5, 4, 8] where i = 1\n",
      "[17, 15, 12, 1, 10, 11, 5, 4, 8] where i = 3\n",
      "[17, 15, 12, 8, 10, 11, 5, 4, 1] where i = 8\n",
      "here, max heap is built\n",
      "[1, 15, 12, 8, 10, 11, 5, 4, 17] where i = 0\n",
      "[15, 1, 12, 8, 10, 11, 5, 4, 17] where i = 1\n",
      "[15, 10, 12, 8, 1, 11, 5, 4, 17] where i = 4\n",
      "[4, 10, 12, 8, 1, 11, 5, 15, 17] where i = 0\n",
      "[12, 10, 4, 8, 1, 11, 5, 15, 17] where i = 2\n",
      "[12, 10, 11, 8, 1, 4, 5, 15, 17] where i = 5\n",
      "[5, 10, 11, 8, 1, 4, 12, 15, 17] where i = 0\n",
      "[11, 10, 5, 8, 1, 4, 12, 15, 17] where i = 2\n",
      "[4, 10, 5, 8, 1, 11, 12, 15, 17] where i = 0\n",
      "[10, 4, 5, 8, 1, 11, 12, 15, 17] where i = 1\n",
      "[10, 8, 5, 4, 1, 11, 12, 15, 17] where i = 3\n",
      "[1, 8, 5, 4, 10, 11, 12, 15, 17] where i = 0\n",
      "[8, 1, 5, 4, 10, 11, 12, 15, 17] where i = 1\n",
      "[8, 4, 5, 1, 10, 11, 12, 15, 17] where i = 3\n",
      "[1, 4, 5, 8, 10, 11, 12, 15, 17] where i = 0\n",
      "[5, 4, 1, 8, 10, 11, 12, 15, 17] where i = 2\n",
      "[1, 4, 5, 8, 10, 11, 12, 15, 17] where i = 0\n",
      "[4, 1, 5, 8, 10, 11, 12, 15, 17] where i = 1\n",
      "[1, 4, 5, 8, 10, 11, 12, 15, 17] where i = 0\n",
      "[1, 4, 5, 8, 10, 11, 12, 15, 17]\n"
     ]
    }
   ],
   "source": [
    "test2 = [1,4,5,8,10,11,12,15,17]\n",
    "\n",
    "heap_sort(test2)\n",
    "print(test2)"
   ]
  },
  {
   "cell_type": "code",
   "execution_count": 113,
   "metadata": {},
   "outputs": [
    {
     "name": "stdout",
     "output_type": "stream",
     "text": [
      "6\n",
      "4\n",
      "2\n",
      "5\n",
      "[7, 5, 6, 4, 2, 1, 3]\n"
     ]
    }
   ],
   "source": [
    "test = [1,2,3,4,5,6,7]\n",
    "heap_sort(test)\n",
    "print(test)"
   ]
  },
  {
   "cell_type": "code",
   "execution_count": 87,
   "metadata": {},
   "outputs": [
    {
     "name": "stdout",
     "output_type": "stream",
     "text": [
      "before heap sort:\n",
      "[4, 2, 1, 6, 3, 7, 0, 100, 34, 65, 235]\n",
      "processing via heap sort\n",
      "after heap sort:\n",
      "[0, 1, 2, 3, 4, 6, 7, 34, 65, 100, 235]\n"
     ]
    }
   ],
   "source": [
    "my_list = [4,2,1,6,3,7,0,100,34,65,235]\n",
    "# my_list = [5,8,1,6,3,7,2,4,9]\n",
    "print(\"before heap sort:\")\n",
    "print(my_list)\n",
    "print(\"processing via heap sort\")\n",
    "heap_sort(my_list)\n",
    "print(\"after heap sort:\")\n",
    "print(my_list)"
   ]
  },
  {
   "cell_type": "markdown",
   "metadata": {},
   "source": [
    "## Quicksort\n",
    "\n",
    "Process: \n",
    "- pick a (random) pivot, and run through the array and swap such that the values that are less than the pivot are on one side and the values greater than the pivot are on the other side (doesn't have to be around the pivot's index)\n",
    "\n",
    "<b>Time Complexity: </b> O(nlogn)\n",
    "\n",
    "<b>Space Complexity: </b> O(1)"
   ]
  },
  {
   "cell_type": "code",
   "execution_count": 174,
   "metadata": {},
   "outputs": [],
   "source": [
    "def quick_sort(arr):\n",
    "    quick_sort_helper(arr, 0, len(arr)-1)\n",
    "    \n",
    "def quick_sort_helper(arr, left, right):\n",
    "    if left >= right: \n",
    "        return \n",
    "    pivot = (left + right) // 2 # pick a pivot! we'll just use the mid of the array\n",
    "    index = partition(arr, left, right, pivot) # get the index where the left side and the right side are partitioned\n",
    "    # this will be the index of the first right side element\n",
    "    quick_sort_helper(arr, left, index-1)\n",
    "    quick_sort_helper(arr, index, right)\n",
    "    \n",
    "def partition(arr, left, right, pivot):\n",
    "    pivot_val = arr[pivot]\n",
    "    while left <= right: \n",
    "        while arr[left] < pivot_val:\n",
    "            left += 1 \n",
    "        while arr[right] > pivot_val:\n",
    "            right -= 1\n",
    "        if left <= right:\n",
    "            arr[left], arr[right] = arr[right], arr[left]\n",
    "            left += 1 \n",
    "            right -= 1\n",
    "    return left"
   ]
  },
  {
   "cell_type": "code",
   "execution_count": 175,
   "metadata": {},
   "outputs": [
    {
     "name": "stdout",
     "output_type": "stream",
     "text": [
      "before quicksort:\n",
      "[3, 5, 8, 2, 1, 6, 55]\n",
      "sorting via quicksort\n",
      "after quicksort:\n",
      "[1, 2, 3, 5, 6, 8, 55]\n"
     ]
    }
   ],
   "source": [
    "# test quick sort\n",
    "x = [3,5,8,2,1,6,55]\n",
    "print(\"before quicksort:\\n{}\".format(x))\n",
    "print(\"sorting via quicksort\")\n",
    "quick_sort(x)\n",
    "print(\"after quicksort:\\n{}\".format(x))\n"
   ]
  }
 ],
 "metadata": {
  "kernelspec": {
   "display_name": "Python 3",
   "language": "python",
   "name": "python3"
  },
  "language_info": {
   "codemirror_mode": {
    "name": "ipython",
    "version": 3
   },
   "file_extension": ".py",
   "mimetype": "text/x-python",
   "name": "python",
   "nbconvert_exporter": "python",
   "pygments_lexer": "ipython3",
   "version": "3.6.5"
  }
 },
 "nbformat": 4,
 "nbformat_minor": 2
}
