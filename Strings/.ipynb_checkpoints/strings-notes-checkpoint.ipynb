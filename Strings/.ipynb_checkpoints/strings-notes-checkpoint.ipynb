{
 "cells": [
  {
   "cell_type": "code",
   "execution_count": null,
   "metadata": {},
   "outputs": [],
   "source": [
    "# Amazing solution to is_palindrome() in Python! \n",
    "def is_palindromic(s):\n",
    "    # Note that s[~i] for i in [0, len(s)-1] is s[-(i+1)]\n",
    "    return all(s[i] == s[~i] for i in range(len(s) // 2))"
   ]
  },
  {
   "cell_type": "code",
   "execution_count": 7,
   "metadata": {},
   "outputs": [
    {
     "name": "stdout",
     "output_type": "stream",
     "text": [
      "all() returns True if all the items in the iterable are true. False otherwise\n",
      "False\n",
      "True\n"
     ]
    }
   ],
   "source": [
    "print(\"all() returns True if all the items in the iterable are true. False otherwise\")\n",
    "print(all([-10, 0,1]))\n",
    "print(all([-1,2,3,4,5,6]))\n"
   ]
  },
  {
   "cell_type": "code",
   "execution_count": 10,
   "metadata": {},
   "outputs": [
    {
     "name": "stdout",
     "output_type": "stream",
     "text": [
      "s.strip() gets rid of leading and trailing whitespace\n",
      "           hello there neighbor\n",
      "hello there neighbor\n"
     ]
    }
   ],
   "source": [
    "print(\"s.strip() gets rid of leading and trailing whitespace\")\n",
    "s = \"           hello there neighbor\"\n",
    "print(s)\n",
    "print(s.strip()) "
   ]
  },
  {
   "cell_type": "code",
   "execution_count": 14,
   "metadata": {},
   "outputs": [
    {
     "name": "stdout",
     "output_type": "stream",
     "text": [
      "s.startswith(prefix) and s.endswith(suffix) return booleans depending on whether s has the specified prefix/suffix \n",
      "True\n",
      "False\n",
      "True\n",
      "False\n"
     ]
    }
   ],
   "source": [
    "print(\"s.startswith(prefix) and s.endswith(suffix) return booleans depending on whether s has the specified prefix/suffix \")\n",
    "s = \"whats up doc\"\n",
    "print(s.startswith(\"wha\"))\n",
    "print(s.startswith(\"wat\"))\n",
    "print(s.endswith(\"oc\"))\n",
    "print(s.endswith(\"up\"))"
   ]
  },
  {
   "cell_type": "code",
   "execution_count": 17,
   "metadata": {},
   "outputs": [
    {
     "name": "stdout",
     "output_type": "stream",
     "text": [
      "Fun times with format!\n",
      "Name Calvinakov, Title proCoder\n"
     ]
    }
   ],
   "source": [
    "print(\"Fun times with format!\")\n",
    "print('Name {name}, Title {title}'.format(name='Calvinakov', title='proCoder'))"
   ]
  },
  {
   "cell_type": "code",
   "execution_count": 23,
   "metadata": {},
   "outputs": [
    {
     "data": {
      "text/plain": [
       "9"
      ]
     },
     "execution_count": 23,
     "metadata": {},
     "output_type": "execute_result"
    }
   ],
   "source": [
    "ord('9') - ord('0')"
   ]
  },
  {
   "cell_type": "code",
   "execution_count": 42,
   "metadata": {},
   "outputs": [
    {
     "name": "stdout",
     "output_type": "stream",
     "text": [
      "Turning an int into char in Python without using str():\n",
      "chr(x) where x = 9 is wrong! : chr(x) = \t , this is due to ASCII\n",
      "chr(ord('0') + x) = 9 , this is the correct way to go about it\n"
     ]
    }
   ],
   "source": [
    "print(\"Turning an int into char in Python without using str():\")\n",
    "x = 9\n",
    "print(\"chr(x) where x = 9 is wrong! : chr(x) = {} , this is due to ASCII\".format(chr(x)))\n",
    "print(\"chr(ord('0') + x) = {hi} , this is the correct way to go about it\".format(hi=chr(ord('0') + x)))\n"
   ]
  },
  {
   "cell_type": "code",
   "execution_count": null,
   "metadata": {},
   "outputs": [],
   "source": []
  }
 ],
 "metadata": {
  "kernelspec": {
   "display_name": "Python 3",
   "language": "python",
   "name": "python3"
  },
  "language_info": {
   "codemirror_mode": {
    "name": "ipython",
    "version": 3
   },
   "file_extension": ".py",
   "mimetype": "text/x-python",
   "name": "python",
   "nbconvert_exporter": "python",
   "pygments_lexer": "ipython3",
   "version": "3.7.2"
  }
 },
 "nbformat": 4,
 "nbformat_minor": 2
}
