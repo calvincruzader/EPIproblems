{
 "cells": [
  {
   "cell_type": "markdown",
   "metadata": {},
   "source": [
    "## Searching notes\n"
   ]
  },
  {
   "cell_type": "code",
   "execution_count": 6,
   "metadata": {},
   "outputs": [
    {
     "name": "stdout",
     "output_type": "stream",
     "text": [
      "3\n",
      "11\n",
      "thus:\n",
      "bisect.bisect_left(arr, val) returns the first index that is val <= arr[i]\n",
      "bisect.bisect_right(arr, val) returns the first index that is val < arr[i]\n"
     ]
    }
   ],
   "source": [
    "# review bisect.bisect_left and bisect.bisect_right\n",
    "import bisect\n",
    "\n",
    "x = [0,1,2,3,3,3,3,3,3,3,3,4,5,6,7,8]\n",
    "print(bisect.bisect_left(x, 3)) \n",
    "print(bisect.bisect_right(x, 3))\n",
    "\n",
    "print(\"thus:\")\n",
    "print(\"bisect.bisect_left(arr, val) returns the first index that is val <= arr[i]\")\n",
    "print(\"bisect.bisect_right(arr, val) returns the first index that is val < arr[i]\")"
   ]
  },
  {
   "cell_type": "code",
   "execution_count": null,
   "metadata": {},
   "outputs": [],
   "source": []
  },
  {
   "cell_type": "code",
   "execution_count": null,
   "metadata": {},
   "outputs": [],
   "source": []
  },
  {
   "cell_type": "code",
   "execution_count": null,
   "metadata": {},
   "outputs": [],
   "source": []
  }
 ],
 "metadata": {
  "kernelspec": {
   "display_name": "Python 3",
   "language": "python",
   "name": "python3"
  },
  "language_info": {
   "codemirror_mode": {
    "name": "ipython",
    "version": 3
   },
   "file_extension": ".py",
   "mimetype": "text/x-python",
   "name": "python",
   "nbconvert_exporter": "python",
   "pygments_lexer": "ipython3",
   "version": "3.7.2"
  }
 },
 "nbformat": 4,
 "nbformat_minor": 2
}
