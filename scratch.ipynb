{
 "cells": [
  {
   "cell_type": "code",
   "execution_count": 103,
   "metadata": {},
   "outputs": [],
   "source": [
    "'''\n",
    "Flood fill algorithm: Given a 2D array, a start node, start color, and replacement color, fill all nodes in the array that are connected to the start node \n",
    "8 directional flood fill implementation\n",
    "'''\n",
    "\n",
    "class FloodFill: \n",
    "\n",
    "    def __init__(self, INVALID_CELL):\n",
    "        self.INVALID_CELL = INVALID_CELL\n",
    "\n",
    "    def flood_fill(self, arr, start_node: tuple, start_color, rep_color):\n",
    "\n",
    "        if(arr[start_node[0]][start_node[1]] == self.INVALID_CELL):\n",
    "            return \n",
    "\n",
    "        if(arr[start_node[0]][start_node[1]] == start_color):\n",
    "            arr[start_node[0]][start_node[1]] = rep_color\n",
    "\n",
    "        for i in range(start_node[0]-1, start_node[0]+2, 1):\n",
    "            for j in range(start_node[1]-1, start_node[1]+2, 1): \n",
    "                # if we're not out of bounds of if we're not in an invalid cell, fill\n",
    "\n",
    "                if 0 <= i and i < len(arr) and 0 <= j and j < len(arr[0]) and not arr[i][j] == self.INVALID_CELL \\\n",
    "                and not arr[i][j] == rep_color:\n",
    "                    arr[i][j] = rep_color\n",
    "                    self.flood_fill(arr, (i,j), start_color, rep_color)\n",
    "                \n",
    "\n",
    "f = FloodFill(-1) \n",
    "A = [[0, 0, -1, 0], [0, 0, 0, 0], [-1, -1, -1, -1], [0, 0, 0, 0]]\n",
    "# a nice way to print 2D arrays in python\n",
    "print('\\n'.join([''.join(['{:4}'.format(col) for col in row]) for row in A]))\n",
    "f.flood_fill(A, (0,0), 0, 2)\n",
    "my_tuple = (2,2)\n",
    "\n",
    "print(A[my_tuple[0]][my_tuple[1]])"
   ]
  },
  {
   "cell_type": "code",
   "execution_count": 104,
   "metadata": {},
   "outputs": [],
   "source": [
    "f = FloodFill(-1) "
   ]
  },
  {
   "cell_type": "code",
   "execution_count": 105,
   "metadata": {},
   "outputs": [],
   "source": [
    "A = [[0, 0, -1, 0], [0, 0, 0, 0], [-1, -1, -1, -1], [0, 0, 0, 0]]"
   ]
  },
  {
   "cell_type": "code",
   "execution_count": 108,
   "metadata": {},
   "outputs": [
    {
     "name": "stdout",
     "output_type": "stream",
     "text": [
      "   2   2  -1   2\n",
      "   2   2   2   2\n",
      "  -1  -1  -1  -1\n",
      "   0   0   0   0\n"
     ]
    }
   ],
   "source": [
    "# a nice way to print 2D arrays in python\n",
    "print('\\n'.join([''.join(['{:4}'.format(col) for col in row]) for row in A]))"
   ]
  },
  {
   "cell_type": "code",
   "execution_count": 107,
   "metadata": {},
   "outputs": [],
   "source": [
    "f.flood_fill(A, (0,0), 0, 2)"
   ]
  },
  {
   "cell_type": "code",
   "execution_count": 51,
   "metadata": {},
   "outputs": [
    {
     "name": "stdout",
     "output_type": "stream",
     "text": [
      "-1\n"
     ]
    }
   ],
   "source": [
    "my_tuple = (2,2)\n",
    "\n",
    "print(A[my_tuple[0]][my_tuple[1]])"
   ]
  },
  {
   "cell_type": "code",
   "execution_count": 115,
   "metadata": {},
   "outputs": [],
   "source": [
    "B = [[col for col in range(3)] for col in range(3)]"
   ]
  },
  {
   "cell_type": "code",
   "execution_count": 117,
   "metadata": {},
   "outputs": [
    {
     "name": "stdout",
     "output_type": "stream",
     "text": [
      "   0   1   2\n",
      "   0   1   2\n",
      "   0   1   2\n"
     ]
    }
   ],
   "source": [
    "print('\\n'.join([''.join(['{:4}'.format(col) for col in row]) for row in B]))"
   ]
  },
  {
   "cell_type": "code",
   "execution_count": 125,
   "metadata": {},
   "outputs": [],
   "source": [
    "C = [[] for _ in range(3)]"
   ]
  },
  {
   "cell_type": "code",
   "execution_count": 126,
   "metadata": {},
   "outputs": [],
   "source": [
    "# can you append to empty initialized arrays?\n",
    "C[1].append('test')\n"
   ]
  },
  {
   "cell_type": "code",
   "execution_count": 128,
   "metadata": {},
   "outputs": [
    {
     "name": "stdout",
     "output_type": "stream",
     "text": [
      "[[], ['test'], []]\n"
     ]
    }
   ],
   "source": [
    "print(C)"
   ]
  },
  {
   "cell_type": "code",
   "execution_count": 10,
   "metadata": {},
   "outputs": [],
   "source": [
    "class Solution:\n",
    "    def my_char_counter(self, word): \n",
    "        output = [0] * 26\n",
    "\n",
    "        for c in word: \n",
    "            output[ord(c) - ord('a')] += 1\n",
    "        return ''.join(map(str,output))\n"
   ]
  },
  {
   "cell_type": "code",
   "execution_count": 11,
   "metadata": {},
   "outputs": [
    {
     "name": "stdout",
     "output_type": "stream",
     "text": [
      "h\n",
      "e\n",
      "l\n",
      "l\n",
      "o\n",
      "w\n",
      "o\n",
      "r\n",
      "l\n",
      "d\n",
      "00011001000300200100001000\n"
     ]
    }
   ],
   "source": [
    "s = Solution() \n",
    "print(s.my_char_counter(\"helloworld\"))"
   ]
  },
  {
   "cell_type": "code",
   "execution_count": 14,
   "metadata": {},
   "outputs": [
    {
     "data": {
      "text/plain": [
       "['e', 'h', 'l', 'l', 'o']"
      ]
     },
     "execution_count": 14,
     "metadata": {},
     "output_type": "execute_result"
    }
   ],
   "source": [
    "word = \"hello\"\n",
    "sorted(word)"
   ]
  }
 ],
 "metadata": {
  "kernelspec": {
   "display_name": "Python 3",
   "language": "python",
   "name": "python3"
  },
  "language_info": {
   "codemirror_mode": {
    "name": "ipython",
    "version": 3
   },
   "file_extension": ".py",
   "mimetype": "text/x-python",
   "name": "python",
   "nbconvert_exporter": "python",
   "pygments_lexer": "ipython3",
   "version": "3.7.2"
  }
 },
 "nbformat": 4,
 "nbformat_minor": 2
}
