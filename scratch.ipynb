{
 "cells": [
  {
   "cell_type": "code",
<<<<<<< HEAD
   "execution_count": 10,
=======
   "execution_count": 33,
>>>>>>> bc6375d6038646f145164d2f52deead0a0d8a82a
   "metadata": {},
   "outputs": [
    {
     "name": "stdout",
     "output_type": "stream",
     "text": [
<<<<<<< HEAD
      "deque([1])\n"
     ]
    },
    {
     "data": {
      "text/plain": [
       "1"
      ]
     },
     "execution_count": 10,
     "metadata": {},
     "output_type": "execute_result"
=======
      "1\n",
      "deque([2, 3, 4, 5])\n",
      "5\n",
      "deque([2, 3, 4])\n"
     ]
>>>>>>> bc6375d6038646f145164d2f52deead0a0d8a82a
    }
   ],
   "source": [
    "from collections import deque\n",
    "\n",
<<<<<<< HEAD
    "d = deque()\n",
    "\n",
    "d.append(1)\n",
    "print(d)\n",
    "\n",
    "d.popleft()"
   ]
  },
  {
   "cell_type": "code",
   "execution_count": 14,
   "metadata": {},
   "outputs": [
    {
     "name": "stdout",
     "output_type": "stream",
     "text": [
      "[1, 2, 92, 4]\n",
      "[2, 3, 92, 4]\n"
     ]
    }
   ],
   "source": [
    "import heapq\n",
    "\n",
    "x = [2,4,92,1]\n",
    "heapq.heapify(x)\n",
    "print(x)\n",
    "heapq.heappop(x)\n",
    "heapq.heappush(x, 3)\n",
    "\n",
    "print(x)"
   ]
  },
  {
   "cell_type": "code",
   "execution_count": null,
   "metadata": {},
   "outputs": [],
   "source": []
=======
    "queue = deque([1,2,3,4,5])\n",
    "print(queue.popleft())\n",
    "print(queue)\n",
    "print(queue.pop())\n",
    "print(queue)"
   ]
>>>>>>> bc6375d6038646f145164d2f52deead0a0d8a82a
  }
 ],
 "metadata": {
  "kernelspec": {
   "display_name": "Python 3",
   "language": "python",
   "name": "python3"
  },
  "language_info": {
   "codemirror_mode": {
    "name": "ipython",
    "version": 3
   },
   "file_extension": ".py",
   "mimetype": "text/x-python",
   "name": "python",
   "nbconvert_exporter": "python",
   "pygments_lexer": "ipython3",
<<<<<<< HEAD
   "version": "3.7.2"
=======
   "version": "3.6.5"
>>>>>>> bc6375d6038646f145164d2f52deead0a0d8a82a
  }
 },
 "nbformat": 4,
 "nbformat_minor": 2
}
