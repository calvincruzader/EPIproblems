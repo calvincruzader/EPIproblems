{
 "cells": [
  {
   "cell_type": "markdown",
   "metadata": {},
   "source": [
    "Algos to know how to implement immediately: \n",
    "\n",
    "- Dijkstra’s shortest path \n",
    "- bellman ford\n",
    "- A* \n",
    "- flood fill\n",
    "- Floyd-Warshall \n",
    "- Merge sort \n",
    "- Quick sort \n",
    "- Heap sort \n",
    "- flood fill \n",
    "- DFS \n",
    "- BFS \n",
    "- Minimum spanning tree\n",
    "- Finding the subproblem in dynamic problem problems\t\n",
    "- Familiarize yourself with binary trees, n-ary trees, and trie-trees. Be familiar with at least one type of balanced - binary tree, whether it's a red/black tree, a splay tree or an AVL tree, and know how it's implemented. \t\n",
    "- Graphs: Graphs are really important at Google. There are 3 basic ways to represent a graph in memory (objects and pointers, matrix, and adjacency list); familiarize yourself with each representation and its pros & cons.\n",
    "- N choose k, discrete math\n",
    "\n",
    "You should especially know about the most famous classes of NP-complete problems, such as traveling salesman and the knapsack problem, and be able to recognize them when an interviewer asks you them in disguise. Find out what NP-complete means.\n",
    "NP-complete\n",
    "Taveling salesman: find the minimum cost to deliver a set of items to N number of locations. \n",
    " \n",
    "\n",
    "Operating systems: (only relevant for onsite interviews)\n",
    "* Know about processes, threads and concurrency issues.\n",
    "* Know about locks and mutexes and semaphores and monitors and how they work.\n",
    "* Know about deadlock and livelock and how to avoid them. Know what resources a processes needs, and a thread needs, and how context switching works, and how it's initiated by the operating system and underlying hardware. \n",
    "* Know a little about scheduling. \n",
    "* The world is rapidly moving towards multi-core, so know the fundamentals of \"modern\" concurrency constructs.\n",
    "\n",
    "Understand and implement these such that they become second nature."
   ]
  }
 ],
 "metadata": {
  "kernelspec": {
   "display_name": "Python 3",
   "language": "python",
   "name": "python3"
  },
  "language_info": {
   "codemirror_mode": {
    "name": "ipython",
    "version": 3
   },
   "file_extension": ".py",
   "mimetype": "text/x-python",
   "name": "python",
   "nbconvert_exporter": "python",
   "pygments_lexer": "ipython3",
   "version": "3.6.5"
  }
 },
 "nbformat": 4,
 "nbformat_minor": 2
}
