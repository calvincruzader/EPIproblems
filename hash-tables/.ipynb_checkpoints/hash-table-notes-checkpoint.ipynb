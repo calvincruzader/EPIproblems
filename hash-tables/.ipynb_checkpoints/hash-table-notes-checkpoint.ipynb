{
 "cells": [
  {
   "cell_type": "markdown",
   "metadata": {},
   "source": [
    "## Hash table notes \n"
   ]
  },
  {
   "cell_type": "code",
   "execution_count": 11,
   "metadata": {},
   "outputs": [
    {
     "name": "stdout",
     "output_type": "stream",
     "text": [
      "this is the default value\n",
      "Thus, defaultdict uses a return value of a function in as a default value. Seems a little weird but I'll take it for now\n"
     ]
    }
   ],
   "source": [
    "from collections import defaultdict \n",
    "\n",
    "x = defaultdict(lambda : 'this is the default value')\n",
    "print(x[3])\n",
    "print(\"Thus, defaultdict uses a return value of a function in as a default value. Seems a little weird but I'll take it for now\")"
   ]
  },
  {
   "cell_type": "code",
   "execution_count": null,
   "metadata": {},
   "outputs": [],
   "source": []
  },
  {
   "cell_type": "code",
   "execution_count": null,
   "metadata": {},
   "outputs": [],
   "source": []
  }
 ],
 "metadata": {
  "kernelspec": {
   "display_name": "Python 3",
   "language": "python",
   "name": "python3"
  },
  "language_info": {
   "codemirror_mode": {
    "name": "ipython",
    "version": 3
   },
   "file_extension": ".py",
   "mimetype": "text/x-python",
   "name": "python",
   "nbconvert_exporter": "python",
   "pygments_lexer": "ipython3",
   "version": "3.7.2"
  }
 },
 "nbformat": 4,
 "nbformat_minor": 2
}
