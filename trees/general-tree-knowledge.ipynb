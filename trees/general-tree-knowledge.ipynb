{
 "cells": [
  {
   "cell_type": "code",
   "execution_count": 1,
   "metadata": {},
   "outputs": [],
   "source": [
    "# standard tree structure\n",
    "\n",
    "class TreeNode: \n",
    "    def __init__(self, val, left = None, right = None):\n",
    "        self.val, self.left, self.right = val, left, right"
   ]
  },
  {
   "cell_type": "code",
   "execution_count": 7,
   "metadata": {},
   "outputs": [
    {
     "name": "stdout",
     "output_type": "stream",
     "text": [
      "0\n"
     ]
    }
   ],
   "source": [
    "##### sample tree \n",
    "root1 = TreeNode(5)\n",
    "root1.left = TreeNode(3)\n",
    "root1.right = TreeNode(8)\n",
    "root1.left.left = TreeNode(1)\n",
    "root1.left.right = TreeNode(4)\n",
    "root1.right.left = TreeNode(7)\n",
    "root1.right.right = TreeNode(11)\n",
    "\n",
    "'''\n",
    "         5\n",
    "       /   \\\n",
    "      3     8\n",
    "     / \\   / \\\n",
    "    1   4 7   11\n",
    "\n",
    "'''\n",
    "print(0)"
   ]
  },
  {
   "cell_type": "code",
   "execution_count": 39,
   "metadata": {},
   "outputs": [],
   "source": [
    "# standard in order traversal sanity check \n",
    "def inorder_traversal(root, output): \n",
    "    inorder_traversal(root.left, output) if root.left else None \n",
    "    output.append(root.val)\n",
    "    inorder_traversal(root.right, output) if root.right else None\n",
    "    return output\n",
    "\n",
    "# this is implicitly O(N^2) space, interesting, still O(NlogN) time thought, so that's fine \n",
    "# for an example"
   ]
  },
  {
   "cell_type": "code",
   "execution_count": 40,
   "metadata": {},
   "outputs": [
    {
     "name": "stdout",
     "output_type": "stream",
     "text": [
      "[1, 3, 4, 5, 7, 8, 11]\n"
     ]
    }
   ],
   "source": [
    "print(inorder_traversal(root1, [])) "
   ]
  },
  {
   "cell_type": "markdown",
   "metadata": {},
   "source": [
    "Need to know how to traverse through a tree level by level using a size parameter \n",
    "or a dummy variable."
   ]
  },
  {
   "cell_type": "code",
   "execution_count": 50,
   "metadata": {},
   "outputs": [
    {
     "name": "stdout",
     "output_type": "stream",
     "text": [
      "[5, 3, 8, 1, 4, 7, 11]\n"
     ]
    }
   ],
   "source": [
    "# traversing level by level via a size parameter\n",
    "from collections import deque\n",
    "\n",
    "def level_by_level_size(root):\n",
    "    d = deque()\n",
    "    d.append(root)\n",
    "    output = []\n",
    "    while d: \n",
    "        size = len(d)\n",
    "        while size > 0: \n",
    "            node = d.popleft()\n",
    "            d.append(node.left) if node.left else None\n",
    "            d.append(node.right) if node.right else None\n",
    "            output.append(node.val)\n",
    "            size -= 1 \n",
    "    return output\n",
    "\n",
    "# node the TOTALLY OKAY DOUBLE FOR LOOP\n",
    "'''\n",
    "Time complexity:  O(n) since we go through each of the nodes once\n",
    "Space complexity: O(n) since the last level will have ~1/2 of all\n",
    "                    the nodes worse case, O(n/2) = O(n)\n",
    "'''\n",
    "print(level_by_level_size(root1))"
   ]
  },
  {
   "cell_type": "code",
   "execution_count": null,
   "metadata": {},
   "outputs": [],
   "source": [
    "# traversing level by level via a dummy node (less space used)\n",
    "class LevelTreeNode:\n",
    "    def __init__(self, val, left = None, right = None, next_node = None): \n",
    "        self.val, left, right, next_node = val, left, right, next_node\n",
    "\n",
    "def level_by_level_dummy(root):\n",
    "    dummy = TreeNode(-1)"
   ]
  }
 ],
 "metadata": {
  "kernelspec": {
   "display_name": "Python 3",
   "language": "python",
   "name": "python3"
  },
  "language_info": {
   "codemirror_mode": {
    "name": "ipython",
    "version": 3
   },
   "file_extension": ".py",
   "mimetype": "text/x-python",
   "name": "python",
   "nbconvert_exporter": "python",
   "pygments_lexer": "ipython3",
   "version": "3.7.2"
  }
 },
 "nbformat": 4,
 "nbformat_minor": 2
}
