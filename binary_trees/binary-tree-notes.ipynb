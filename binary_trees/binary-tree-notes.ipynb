{
 "cells": [
  {
   "cell_type": "markdown",
   "metadata": {},
   "source": [
    "## Binary Trees\n",
    "\n",
    "#### Some definitions: \n",
    "\n",
    "full binary tree - is a tree in which every node other than the leaves have two children \n",
    "\n",
    "perfect binary tree - is a full binary tree in which all leaves are the same depth, and every parent has two children \n",
    "\n",
    "complete binary tree - is a tree in which every level, except possibly the last, is completely filled, and all nodes are as far left as possible\n",
    "\n",
    "height-balanced tree - is a tree such that the difference in the height of left and right subtrees is at most one"
   ]
  },
  {
   "cell_type": "markdown",
   "metadata": {},
   "source": [
    "#### Some things to consider: \n",
    "\n",
    "Consider left and right skewed trees when doing complexity analysis\n",
    "\n",
    "Consider using existing tree nodes to potentially reduce complexity from >=O(n) to O(1)"
   ]
  },
  {
   "cell_type": "code",
   "execution_count": 2,
   "metadata": {},
   "outputs": [],
   "source": [
    "# Basic TreeNode\n",
    "class TreeNode: \n",
    "    def __init__(self, val): \n",
    "        self.val, self.left, self.right = val, None, None"
   ]
  },
  {
   "cell_type": "code",
   "execution_count": 5,
   "metadata": {},
   "outputs": [
    {
     "name": "stdout",
     "output_type": "stream",
     "text": [
      "It's equivalent to returning a single value, except now we can return tuples! as many things we want to store as we want as we traverse the tree!\n"
     ]
    }
   ],
   "source": [
    "# new stuff, collections.namedtuple! Makes keeping track of this stuff easier.\n",
    "\n",
    "import collections\n",
    "\n",
    "def checking_objects(root):\n",
    "    BalancedStatusWithHeight = collections.namedtuple('BalancedStatusWithHeight', ('balanced', 'height'))\n",
    "    \n",
    "    def check_balanced(root): \n",
    "        if not root: \n",
    "            return BalancedStatusWithHeight(True, -1)\n",
    "        \n",
    "print(\"It's equivalent to returning a single value, except \\\n",
    "now we can return tuples! as many things we want to store as we want as we traverse the tree!\")"
   ]
  }
 ],
 "metadata": {
  "kernelspec": {
   "display_name": "Python 3",
   "language": "python",
   "name": "python3"
  },
  "language_info": {
   "codemirror_mode": {
    "name": "ipython",
    "version": 3
   },
   "file_extension": ".py",
   "mimetype": "text/x-python",
   "name": "python",
   "nbconvert_exporter": "python",
   "pygments_lexer": "ipython3",
   "version": "3.7.2"
  }
 },
 "nbformat": 4,
 "nbformat_minor": 2
}
