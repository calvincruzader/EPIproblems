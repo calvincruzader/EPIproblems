{
 "cells": [
  {
   "cell_type": "markdown",
   "metadata": {},
   "source": [
    "## Arrays"
   ]
  },
  {
   "cell_type": "code",
   "execution_count": 24,
   "metadata": {},
   "outputs": [
    {
     "name": "stdout",
     "output_type": "stream",
     "text": [
      "[22, 33, 55, 73, 345, 786, 88276]\n",
      "5\n",
      "2\n"
     ]
    }
   ],
   "source": [
    "import bisect\n",
    "\n",
    "my_arr = [33,22,55,73,345,786,88276]\n",
    "my_arr.sort()\n",
    "\n",
    "print(my_arr)\n",
    "print(bisect.bisect(my_arr, 345))  # returns the index of the specified item, if it exists.\n",
    "\n",
    "# if the number is not in the array, return THE CORRECT LOCATION IT SHOULD BE IN THE ARRAY\n",
    "print(bisect.bisect(my_arr, 44))"
   ]
  },
  {
   "cell_type": "code",
   "execution_count": 25,
   "metadata": {},
   "outputs": [
    {
     "name": "stdout",
     "output_type": "stream",
     "text": [
      "2\n",
      "3\n"
     ]
    }
   ],
   "source": [
    "print(bisect.bisect_left(my_arr, 55)) # returns the index of an element that would be just \n",
    "#less than this num, (so the current of the number (55) if it exists)\n",
    "print(bisect.bisect_right(my_arr, 55)) # returns the index of an element that would be \n",
    "# to the right of this num, if found"
   ]
  },
  {
   "cell_type": "code",
   "execution_count": 28,
   "metadata": {},
   "outputs": [
    {
     "name": "stdout",
     "output_type": "stream",
     "text": [
      "<class 'list'>\n",
      "<class 'list_reverseiterator'>\n"
     ]
    }
   ],
   "source": [
    "my_arr.reverse() # in-place reverse\n",
    "print(type(my_arr)) \n",
    "my_arr = reversed(my_arr) # returns a reversed list\n",
    "print(type(my_arr))"
   ]
  },
  {
   "cell_type": "code",
   "execution_count": 31,
   "metadata": {},
   "outputs": [
    {
     "name": "stdout",
     "output_type": "stream",
     "text": [
      "`del`ing a list!\n",
      "[0, 1, 2, 3, 4, 5, 6, 7, 8]\n",
      "performing a del x[3:6]\n",
      "[0, 1, 2, 6, 7, 8]\n"
     ]
    }
   ],
   "source": [
    "print(\"`del`ing a list!\")\n",
    "x = [0,1,2,3,4,5,6,7,8]\n",
    "print(x)\n",
    "print(\"performing a del x[3:6]\")\n",
    "del x[3:6]\n",
    "print(x)"
   ]
  },
  {
   "cell_type": "code",
   "execution_count": 34,
   "metadata": {},
   "outputs": [
    {
     "name": "stdout",
     "output_type": "stream",
     "text": [
      "Python splicing: \n",
      "x[-3:] -> [8, 9, 10]\n"
     ]
    }
   ],
   "source": [
    "x = [1,2,3,4,5,6,7,8,9,10]\n",
    "print(\"Python splicing: \")\n",
    "print(\"x[-3:] -> {}\".format(x[-3:]))"
   ]
  },
  {
   "cell_type": "code",
   "execution_count": 36,
   "metadata": {},
   "outputs": [
    {
     "name": "stdout",
     "output_type": "stream",
     "text": [
      "turning a 2D array into 1D:\n",
      "[1, 2, 3, 4, 5, 6, 7, 8]\n"
     ]
    }
   ],
   "source": [
    "print(\"turning a 2D array into 1D:\")\n",
    "M = [[1,2,3,4],[5,6,7,8]]\n",
    "print([x for row in M for x in row]) # fancy way to turn a 2D array into 1D array"
   ]
  }
 ],
 "metadata": {
  "kernelspec": {
   "display_name": "Python 3",
   "language": "python",
   "name": "python3"
  },
  "language_info": {
   "codemirror_mode": {
    "name": "ipython",
    "version": 3
   },
   "file_extension": ".py",
   "mimetype": "text/x-python",
   "name": "python",
   "nbconvert_exporter": "python",
   "pygments_lexer": "ipython3",
   "version": "3.7.2"
  }
 },
 "nbformat": 4,
 "nbformat_minor": 2
}
