{
 "cells": [
  {
   "cell_type": "markdown",
   "metadata": {},
   "source": [
    "## Heaps notes "
   ]
  },
  {
   "cell_type": "markdown",
   "metadata": {},
   "source": [
    "heapq is a python module that implements a min-heap. Thus, to get a MAX-heap, you'll have to make negative all the numbers. Tada~. For objects, implement the `__lt__()` property properly. (This solves the problem I was having earlier with ease... should look at reference materials more often and power through all the learning material."
   ]
  },
  {
   "cell_type": "code",
   "execution_count": 9,
   "metadata": {},
   "outputs": [
    {
     "name": "stdout",
     "output_type": "stream",
     "text": [
      "[2, 6, 3, 7, 9, 5, 23]\n",
      "[23, 9, 7, 6]\n",
      "[2, 6, 3, 7, 9, 5, 23]\n"
     ]
    }
   ],
   "source": [
    "import heapq\n",
    "\n",
    "x = [3,6,2,7,9,5,23]\n",
    "heapq.heapify(x) # .heapify() turns x into a heap in-place! super fancy \n",
    "print(x)\n",
    "print(heapq.nlargest(4, x)) # implements a min-heap and inputs ith (in this case, 4) largest elements in here  \n",
    "print(x)"
   ]
  },
  {
   "cell_type": "markdown",
   "metadata": {},
   "source": [
    "#### Other common heap functions:"
   ]
  },
  {
   "cell_type": "code",
   "execution_count": 10,
   "metadata": {},
   "outputs": [
    {
     "name": "stdout",
     "output_type": "stream",
     "text": [
      "[2, 6, 3, 7, 9, 5, 23, 100]\n"
     ]
    }
   ],
   "source": [
    "heapq.heappush(x, 100) # pushes onto a heap\n",
    "print(x)"
   ]
  },
  {
   "cell_type": "code",
   "execution_count": 13,
   "metadata": {},
   "outputs": [
    {
     "name": "stdout",
     "output_type": "stream",
     "text": [
      "3\n",
      "[5, 6, 23, 7, 9, 100]\n"
     ]
    }
   ],
   "source": [
    "print(heapq.heappop(x)) # pops something out of the heap \n",
    "print(x)"
   ]
  },
  {
   "cell_type": "code",
   "execution_count": 14,
   "metadata": {},
   "outputs": [
    {
     "name": "stdout",
     "output_type": "stream",
     "text": [
      "5\n",
      "[6, 7, 23, 55, 9, 100]\n"
     ]
    }
   ],
   "source": [
    "print(heapq.heappushpop(x, 55))\n",
    "print(x)"
   ]
  },
  {
   "cell_type": "code",
   "execution_count": 15,
   "metadata": {},
   "outputs": [
    {
     "name": "stdout",
     "output_type": "stream",
     "text": [
      "6\n"
     ]
    }
   ],
   "source": [
    "print(x[0]) # get the smallest value in the heap without removing it (this is a heap peek)"
   ]
  },
  {
   "cell_type": "code",
   "execution_count": null,
   "metadata": {},
   "outputs": [],
   "source": []
  }
 ],
 "metadata": {
  "kernelspec": {
   "display_name": "Python 3",
   "language": "python",
   "name": "python3"
  },
  "language_info": {
   "codemirror_mode": {
    "name": "ipython",
    "version": 3
   },
   "file_extension": ".py",
   "mimetype": "text/x-python",
   "name": "python",
   "nbconvert_exporter": "python",
   "pygments_lexer": "ipython3",
   "version": "3.7.2"
  }
 },
 "nbformat": 4,
 "nbformat_minor": 2
}
